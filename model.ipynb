{
 "cells": [
  {
   "cell_type": "code",
   "execution_count": 1,
   "id": "820bfc68",
   "metadata": {},
   "outputs": [],
   "source": [
    "import pandas as pd\n",
    "import numpy as np\n",
    "import matplotlib.pyplot as plt\n",
    "\n",
    "import pytesseract\n",
    "from PIL import Image\n",
    "import cv2"
   ]
  },
  {
   "cell_type": "code",
   "execution_count": 2,
   "id": "447df0b4",
   "metadata": {},
   "outputs": [
    {
     "name": "stdout",
     "output_type": "stream",
     "text": [
      "У. Трудовая книжка\n",
      "| > АТ-У №\n",
      "|\n",
      "Л | Фамилия „С вебромоб. И\n",
      "| Отчество __ бреве\n",
      "| Фата рождения о оная\n",
      "мело, месяц,\n",
      "@. де - иекишлогеос\n",
      "| м\n",
      "| Профессия, специальность ПЕЕЕАСЬЕ - текно4оа\n",
      "Фата заполнения о г.\n",
      "| т\n",
      "| Подпись владельца книжки с о\n",
      "© & Подлиеь лица, ответетвенного,\n",
      "| за выдачу трудовых книжек\n",
      "#95 (разббрчиво) т\n",
      "\n"
     ]
    }
   ],
   "source": [
    "pytesseract.pytesseract.tesseract_cmd = r'C:\\Program Files\\Tesseract-OCR\\tesseract.exe'\n",
    "image = cv2.imread('./train_RZHD/19/trudovaya-knizhka.jpg')\n",
    "\n",
    "gray_image = cv2.cvtColor(image, cv2.COLOR_BGR2GRAY)\n",
    "_, thresh_image = cv2.threshold(gray_image, 150, 255, cv2.THRESH_BINARY)\n",
    "contrast_image = cv2.convertScaleAbs(thresh_image, alpha=1.5, beta=0)\n",
    "\n",
    "cv2.imwrite('processed_image.jpg', contrast_image)\n",
    "\n",
    "custom_config = r'--oem 3 --psm 6'\n",
    "extracted_text = pytesseract.image_to_string(image, config=custom_config, lang='rus')\n",
    "\n",
    "print(extracted_text)"
   ]
  }
 ],
 "metadata": {
  "kernelspec": {
   "display_name": "Python 3 (ipykernel)",
   "language": "python",
   "name": "python3"
  },
  "language_info": {
   "codemirror_mode": {
    "name": "ipython",
    "version": 3
   },
   "file_extension": ".py",
   "mimetype": "text/x-python",
   "name": "python",
   "nbconvert_exporter": "python",
   "pygments_lexer": "ipython3",
   "version": "3.9.12"
  }
 },
 "nbformat": 4,
 "nbformat_minor": 5
}
