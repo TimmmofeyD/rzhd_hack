{
 "cells": [
  {
   "cell_type": "code",
   "execution_count": 2,
   "id": "f578ce5a",
   "metadata": {},
   "outputs": [],
   "source": [
    "import json\n",
    "import os\n",
    "from PIL import Image"
   ]
  },
  {
   "cell_type": "code",
   "execution_count": 3,
   "id": "f852ffc9",
   "metadata": {},
   "outputs": [],
   "source": [
    "# Функция для нормализации координат\n",
    "def normalize_coordinates(x, y, width, height, img_width, img_height):\n",
    "    x_center = (x + width / 2) / img_width\n",
    "    y_center = (y + height / 2) / img_height\n",
    "    width /= img_width\n",
    "    height /= img_height\n",
    "    return x_center, y_center, width, height"
   ]
  },
  {
   "cell_type": "code",
   "execution_count": 11,
   "id": "20c71dd1",
   "metadata": {},
   "outputs": [],
   "source": [
    "# Загрузка данных VGG\n",
    "vgg_json_path = './mark29_39_title.json'\n",
    "with open(vgg_json_path, 'r', encoding='utf-8') as f:\n",
    "    vgg_data = json.load(f)"
   ]
  },
  {
   "cell_type": "code",
   "execution_count": 13,
   "id": "7f8231cf",
   "metadata": {},
   "outputs": [],
   "source": [
    "# Путь для сохранения аннотаций YOLO\n",
    "yolo_annotations_path = './yolo_annotations'\n",
    "os.makedirs(yolo_annotations_path, exist_ok=True)"
   ]
  },
  {
   "cell_type": "code",
   "execution_count": 14,
   "id": "81071cc2",
   "metadata": {},
   "outputs": [],
   "source": [
    "# Обработка каждого изображения и его аннотаций\n",
    "for img_key, img_data in vgg_data.items():\n",
    "    img_filename = img_data['filename']\n",
    "    img_path = os.path.join('./rtitle', img_filename)\n",
    "    \n",
    "    # Получение ширины и высоты изображения с помощью Pillow\n",
    "    with Image.open(img_path) as img:\n",
    "        img_width, img_height = img.size\n",
    "\n",
    "    yolo_annotation_lines = []\n",
    "\n",
    "    for region in img_data['regions']:\n",
    "        x = region['shape_attributes']['x']\n",
    "        y = region['shape_attributes']['y']\n",
    "        width = region['shape_attributes']['width']\n",
    "        height = region['shape_attributes']['height']\n",
    "\n",
    "        x_center, y_center, norm_width, norm_height = normalize_coordinates(x, y, width, height, img_width, img_height)\n",
    "        yolo_annotation_lines.append(f\"0 {x_center} {y_center} {norm_width} {norm_height}\")\n",
    "\n",
    "    # Сохранение аннотации в формате YOLO\n",
    "    annotation_filename = os.path.splitext(img_filename)[0] + '.txt'\n",
    "    with open(os.path.join(yolo_annotations_path, annotation_filename), 'w', encoding='utf-8') as f:\n",
    "        f.write(\"\\n\".join(yolo_annotation_lines))"
   ]
  },
  {
   "cell_type": "code",
   "execution_count": null,
   "id": "0e1392f3",
   "metadata": {},
   "outputs": [],
   "source": []
  }
 ],
 "metadata": {
  "kernelspec": {
   "display_name": "Python 3 (ipykernel)",
   "language": "python",
   "name": "python3"
  },
  "language_info": {
   "codemirror_mode": {
    "name": "ipython",
    "version": 3
   },
   "file_extension": ".py",
   "mimetype": "text/x-python",
   "name": "python",
   "nbconvert_exporter": "python",
   "pygments_lexer": "ipython3",
   "version": "3.9.12"
  }
 },
 "nbformat": 4,
 "nbformat_minor": 5
}
